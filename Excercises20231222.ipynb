{
  "nbformat": 4,
  "nbformat_minor": 0,
  "metadata": {
    "colab": {
      "provenance": [],
      "include_colab_link": true
    },
    "kernelspec": {
      "name": "python3",
      "display_name": "Python 3"
    },
    "language_info": {
      "name": "python"
    }
  },
  "cells": [
    {
      "cell_type": "markdown",
      "metadata": {
        "id": "view-in-github",
        "colab_type": "text"
      },
      "source": [
        "<a href=\"https://colab.research.google.com/github/kanon18kkk/final_chat1/blob/main/Excercises20231222.ipynb\" target=\"_parent\"><img src=\"https://colab.research.google.com/assets/colab-badge.svg\" alt=\"Open In Colab\"/></a>"
      ]
    },
    {
      "cell_type": "markdown",
      "source": [
        "# **演習１：　階層的クラスタリング**\n",
        "---\n",
        "- ランダムな2次元サンプルを生成し、散布図をプロットする。\n",
        "- 各サンプルに 'a' から 'j' までのラベルを割り当て、ラベルを散布図上に表示しる。\n",
        "- 階層的クラスタリングによるリンケージ行列を作成し、それを用いてラベル付きの樹形図を生成する。\n",
        "- デンドログラムのレイアウトと外観をカスタマイズし、特定のクラスタ数（この例ではトップ3つ）を示すための閾値を表示する。\n",
        "---"
      ],
      "metadata": {
        "id": "M3nfPqRKYN3S"
      }
    },
    {
      "cell_type": "code",
      "execution_count": null,
      "metadata": {
        "id": "gDxY0whFJzU1"
      },
      "outputs": [],
      "source": [
        "import numpy as np\n",
        "import matplotlib.pyplot as plt\n",
        "from scipy.cluster.hierarchy import dendrogram, linkage\n",
        "\n",
        "# Generate random 2D samples\n",
        "np.random.seed(4)\n",
        "samples = np.random.rand(10, 2)\n",
        "# インデックス付きの散布図\n",
        "fig, ax = plt.subplots()\n",
        "ax.scatter(samples[:, 0], samples[:, 1])\n",
        "# サンプルに 'a' から 'j' までのラベルを割り当てる\n",
        "labels = list('abcdefghij')\n",
        "\n",
        "# 各点の添え字をプリント\n",
        "for i in range(len(samples)) :\n",
        "    ax.annotate(labels[i], (samples[i, 0], samples[i, 1]), textcoords=\"offset points\", xytext=(5,5), ha='center')\n",
        "\n",
        "# ラベルとタイトルの追加\n",
        "plt.title('Scatter Plot')\n",
        "plt.xlabel('X')\n",
        "plt.ylabel('Y')\n",
        "plt.axis('square')\n",
        "# プロットの表示\n",
        "plt.show()"
      ]
    },
    {
      "cell_type": "code",
      "source": [
        "# 階層的クラスタリングによるリンケージ行列の作成\n",
        "linkage_matrix = linkage(samples, 'ward')\n",
        "\n",
        "# ラベル付きの樹形図の作成\n",
        "dendrogram(linkage_matrix, labels=labels)\n",
        "\n",
        "# ラベル付きのデンドログラムを作成し結果を取得\n",
        "result = dendrogram(linkage_matrix, labels=labels, orientation='top', leaf_font_size=12)\n",
        "\n",
        "# レイアウトと外観をカスタマイズ\n",
        "plt.title('Dendrogram', fontsize=16)\n",
        "plt.xlabel('Cluster Distance', fontsize=14)\n",
        "plt.ylabel('Sample Index', fontsize=14)\n",
        "\n",
        "# プロットを表示\n",
        "# 閾値・クラスタの数を決める\n",
        "p = 3\n",
        "plt.axhline(y=max(result['dcoord'][-p]), color='red', linestyle='--', linewidth=2, label=f'Top {p} Clusters')\n",
        "plt.show()"
      ],
      "metadata": {
        "id": "dkG9PFV-LOhl"
      },
      "execution_count": null,
      "outputs": []
    },
    {
      "cell_type": "markdown",
      "source": [
        "# **課題(１)　階層的クラスタリングの考察**\n",
        "---\n",
        "- linkage メソッドの引数を変更して、異なる階層的クラスタリング手法を試してください（例: 'single', 'complete', 'average'など）。ウォード法の結果と比較して、その違いを説明してください。\n",
        "---\n",
        "### 答えをここに書いてください。\n"
      ],
      "metadata": {
        "id": "fOLOpA4aX2Uc"
      }
    },
    {
      "cell_type": "markdown",
      "source": [
        "# **演習２： k-meansと階層的クラスタリングの比較**\n",
        "---\n",
        "1.  データの作成\n",
        "- make_blobs 関数を使用して、4つの中心を持つランダムな2Dサンプルデータを生成する。\n",
        "2.  K-meansクラスタリング:\n",
        "- K-meansのエルボー法によるクラスタ数決定\n",
        "- k を変化させながら、各クラスタ数における「クラスタ内平方和（WCSS）」を計算する。\n",
        "- エルボー法により、WCSSが急激に減少するクラスタ数（適切なクラスタ数）を見つける。\n",
        "- エルボー法で決定した最適なクラスタ数を使用して、K-meansクラスタリングを実行する。\n",
        "- 結果を散布図上にプロットし、各クラスタの中心をマーカーで表示する。\n",
        "\n",
        "3. 階層的クラスタリングとデンドログラム:\n",
        "- linkage メソッドを使用して、階層的クラスタリングのためのリンケージ行列を作成する。\n",
        "- リンケージ行列を用いてデンドログラムを描画する。\n",
        "- 階層的クラスタリングの結果から得られたクラスタラベルを取得し、指定された閾値を用いてクラスタリングを行う。\n",
        "- クラスタリング結果を散布図上にプロットし、各クラスタを異なる色で表示する。\n",
        "---\n"
      ],
      "metadata": {
        "id": "Cd1ytMcDgoZ8"
      }
    },
    {
      "cell_type": "code",
      "source": [
        "import numpy as np\n",
        "import matplotlib.pyplot as plt\n",
        "from sklearn.cluster import KMeans\n",
        "from scipy.cluster.hierarchy import linkage, dendrogram\n",
        "from sklearn.datasets import make_blobs\n",
        "# サンプルデータ生成\n",
        "samples, cluster_labels = make_blobs(n_samples=300, centers=5, random_state=43)\n",
        "\n",
        "# 結果の可視化\n",
        "plt.scatter(samples[:,0], samples[:,1], c=cluster_labels, s=20, cmap='viridis')\n",
        "plt.title('Generated Blob Data')\n",
        "plt.xlabel('Feature 1')\n",
        "plt.ylabel('Feature 2')\n",
        "plt.show()"
      ],
      "metadata": {
        "id": "DTg9KN2gDVAi"
      },
      "execution_count": null,
      "outputs": []
    },
    {
      "cell_type": "code",
      "source": [
        "# Calculate the within-cluster sum of squares (WCSS) for different values of k\n",
        "wcss = []\n",
        "for k in range(1, 11):\n",
        "    kmeans = KMeans(n_clusters=k, random_state=42, n_init='auto')\n",
        "    kmeans.fit(samples)\n",
        "    wcss.append(kmeans.inertia_)\n",
        "\n",
        "# Plot the elbow curve\n",
        "plt.plot(range(1, 11), wcss, marker='o')\n",
        "plt.title('Elbow Method for Optimal K')\n",
        "plt.xlabel('Number of Clusters (K)')\n",
        "plt.ylabel('Within-Cluster Sum of Squares (WCSS)')\n",
        "plt.show()"
      ],
      "metadata": {
        "colab": {
          "base_uri": "https://localhost:8080/",
          "height": 472
        },
        "id": "7m5pooO-lYs-",
        "outputId": "9cf16b6c-832e-4843-8875-96997f641413"
      },
      "execution_count": null,
      "outputs": [
        {
          "output_type": "display_data",
          "data": {
            "text/plain": [
              "<Figure size 640x480 with 1 Axes>"
            ],
            "image/png": "[encoded data removed]"
          },
          "metadata": {}
        }
      ]
    },
    {
      "cell_type": "code",
      "source": [
        "# k-means クラスタリング\n",
        "kmeans = KMeans(n_clusters=4,n_init='auto')\n",
        "kmeans.fit(samples)\n",
        "labels = kmeans.labels_\n",
        "centroids = kmeans.cluster_centers_\n",
        "\n",
        "# 結果の可視化\n",
        "plt.scatter(samples[:,0], samples[:,1], c=labels, s=20)\n",
        "plt.scatter(centroids[:, 0], centroids[:, 1], c='r', marker='x', s=150, linewidths=5, zorder=10)\n",
        "plt.show()"
      ],
      "metadata": {
        "id": "PVdQtQ0XXopq"
      },
      "execution_count": null,
      "outputs": []
    },
    {
      "cell_type": "code",
      "source": [
        "# 階層的クラスタリング\n",
        "linkage_matrix = linkage(samples, 'ward')\n",
        "\n",
        "#デンドロブラムを作成し、描画する\n",
        "dendrogram(linkage_matrix)\n",
        "plt.xlabel('Sample Index')\n",
        "plt.ylabel('Cluster Distance')\n",
        "plt.title('Dendrogram')\n",
        "\n",
        "plt.show()"
      ],
      "metadata": {
        "id": "aV6x9sYzeHHl"
      },
      "execution_count": null,
      "outputs": []
    },
    {
      "cell_type": "code",
      "source": [
        "# 階層的クラスタリングからクラスタラベルを取得\n",
        "from scipy.cluster.hierarchy import fcluster\n",
        "# クラスタリングのための閾値設定\n",
        "threshold = 15 # 必要に応じてこの閾値を調整してください\n",
        "\n",
        "# 距離基準に基づいてクラスタラベルを取得\n",
        "clusters = fcluster(linkage_matrix, threshold, criterion='distance')\n",
        "\n",
        "# クラスタリング結果を視覚化するscatterプロット\n",
        "fig, ax = plt.subplots()\n",
        "for cluster_num in np.unique(clusters):\n",
        "    indices = np.where(clusters == cluster_num)[0]\n",
        "    ax.scatter(samples[indices, 0], samples[indices, 1], label=f'Cluster {cluster_num}')\n",
        "\n",
        "# タイトルの追加\n",
        "plt.title('Clustering Result by Linkage')\n",
        "\n",
        "# 凡例表示\n",
        "plt.legend()\n",
        "plt.show()"
      ],
      "metadata": {
        "id": "tZ6GDU51KRjG"
      },
      "execution_count": null,
      "outputs": []
    },
    {
      "cell_type": "markdown",
      "source": [
        "# **課題（２）　異なるデータセットでクラスタリング結果確認**\n",
        "---\n",
        "- make_moons[^1]関数を使用して、他のメソッドで生成された異なる分布のデータセットを作成し、K-meansおよび階層的クラスタリングを実行してみてください。結果がどのように変わるか観察してください。このようなデータに対して、どのクラスタリング手法やパラメータが適切であるかについて考察し、説明してください。\n",
        "[^1]: make_moons 関数の例は、以下のコードを参照してください。\n",
        "---\n",
        "答えをここに書いてください。"
      ],
      "metadata": {
        "id": "uJ9yIpAYoCCi"
      }
    },
    {
      "cell_type": "code",
      "source": [
        "from sklearn.datasets import make_moons\n",
        "import matplotlib.pyplot as plt\n",
        "\n",
        "samples, labels = make_moons(n_samples=300, noise=0.10, random_state=32)\n",
        "\n",
        "plt.scatter(samples[:, 0], samples[:, 1], c=labels, cmap='viridis')\n",
        "plt.title('Generated Moon Data')\n",
        "plt.xlabel('Feature 1')\n",
        "plt.ylabel('Feature 2')\n",
        "plt.show()"
      ],
      "metadata": {
        "id": "X12Jga63pzkX"
      },
      "execution_count": null,
      "outputs": []
    },
    {
      "cell_type": "markdown",
      "source": [
        "# **演習３： 手書き数字の次元削減手法比較**\n",
        "---\n",
        "1. データのロード：\n",
        "- load_digits()を用いて手書き数字のデータセットをロードし、特徴量（X）と対応するラベル（y）を取得。\n",
        "- データを画像ファイルに整形し、中の内容を確認\n",
        "2. PCA、Isomap、t-SNEの次元削減：\n",
        "- PCA（主成分分析）、Isomap、t-SNEをそれぞれ適用し、2次元に次元削減されたデータを得ます（X_pca、X_isomap、X_tsne）。\n",
        "3. 次元圧縮の結果を確認\n",
        "- plt.scatter()を用いて、各数字の散布図を作成\n",
        "- 異なる数字を異なる色でプロット\n",
        "---"
      ],
      "metadata": {
        "id": "bckie4d0uOuo"
      }
    },
    {
      "cell_type": "code",
      "source": [
        "import numpy as np\n",
        "import matplotlib.pyplot as plt\n",
        "from sklearn.datasets import load_digits\n",
        "\n",
        "# データの読み込み\n",
        "digits = load_digits()\n",
        "X = digits.data\n",
        "y = digits.target\n",
        "\n",
        "# クラスごとにサンプルを選択して表示\n",
        "num_classes = len(np.unique(y))\n",
        "samples_per_class = 10\n",
        "\n",
        "# グリッドのサイズ\n",
        "grid_size = (num_classes, samples_per_class)\n",
        "\n",
        "# 画像を描画するための準備\n",
        "fig, ax_array = plt.subplots(*grid_size, figsize=(15, 8))\n",
        "\n",
        "# 各クラスのサンプルを表示\n",
        "for i in range(num_classes):\n",
        "    class_indices = np.where(y == i)[0][:samples_per_class]\n",
        "    for j, index in enumerate(class_indices):\n",
        "        digit_image = X[index].reshape(8, 8)\n",
        "        ax_array[i, j].imshow(digit_image, cmap='gray')\n",
        "        ax_array[i, j].axis('off')\n",
        "\n",
        "plt.show()"
      ],
      "metadata": {
        "id": "Ic-J76eAw3Zv"
      },
      "execution_count": null,
      "outputs": []
    },
    {
      "cell_type": "code",
      "source": [
        "from sklearn.decomposition import PCA\n",
        "from sklearn.manifold import Isomap, TSNE\n",
        "\n",
        "# PCAを用いた次元削減\n",
        "pca = PCA(n_components=2)\n",
        "X_pca = pca.fit_transform(X)\n",
        "\n",
        "# Isomapを用いた次元削減\n",
        "isomap = Isomap(n_neighbors=30, n_components=2)\n",
        "X_isomap = isomap.fit_transform(X)\n",
        "\n",
        "# t-SNEを用いた次元削減\n",
        "tsne = TSNE(n_components=2, perplexity=30, random_state=42)\n",
        "X_tsne = tsne.fit_transform(X)\n",
        "\n",
        "# 結果のプロット\n",
        "plt.figure(figsize=(18, 5))\n",
        "\n",
        "# PCAのプロット\n",
        "plt.subplot(1, 3, 1)\n",
        "for i in range(10):\n",
        "    plt.scatter(X_pca[y == i, 0], X_pca[y == i, 1], label=str(i), edgecolor='k')\n",
        "plt.title('PCA')\n",
        "plt.legend()\n",
        "\n",
        "# Isomapのプロット\n",
        "plt.subplot(1, 3, 2)\n",
        "for i in range(10):\n",
        "    plt.scatter(X_isomap[y == i, 0], X_isomap[y == i, 1], label=str(i), edgecolor='k')\n",
        "plt.title('Isomap')\n",
        "plt.legend()\n",
        "\n",
        "# t-SNEのプロット\n",
        "plt.subplot(1, 3, 3)\n",
        "for i in range(10):\n",
        "    plt.scatter(X_tsne[y == i, 0], X_tsne[y == i, 1], label=str(i), edgecolor='k')\n",
        "plt.title('t-SNE')\n",
        "plt.legend()\n",
        "\n",
        "plt.show()\n"
      ],
      "metadata": {
        "id": "BZ_Qs_xnsda5"
      },
      "execution_count": null,
      "outputs": []
    },
    {
      "cell_type": "markdown",
      "source": [
        "# **課題(３)　他の次元圧縮手法も確かめてみよう**\n",
        "---\n",
        "scikit-learnに実装された以下の次元削減手法の結果もこのデータセットで比べてみましょう。\n",
        "- LLE (Locally Linear Embedding): 近傍の点に対して線形な関係を保つことを目指す非線形な次元削減手法\n",
        "- UMAP (Uniform Manifold Approximation and Projection): t-SNEに似た手法で、非線形な構造を保ちながら低次元表現を生成する手法\n",
        "---\n",
        "このしたにコードを書いてください。"
      ],
      "metadata": {
        "id": "ZCEBU4fAzfLB"
      }
    }
  ]
}